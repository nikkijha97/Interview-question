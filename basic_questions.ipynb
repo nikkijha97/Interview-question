{
  "nbformat": 4,
  "nbformat_minor": 0,
  "metadata": {
    "colab": {
      "provenance": [],
      "authorship_tag": "ABX9TyNSgvdAl89Ny15V1G19cry1",
      "include_colab_link": true
    },
    "kernelspec": {
      "name": "python3",
      "display_name": "Python 3"
    },
    "language_info": {
      "name": "python"
    }
  },
  "cells": [
    {
      "cell_type": "markdown",
      "metadata": {
        "id": "view-in-github",
        "colab_type": "text"
      },
      "source": [
        "<a href=\"https://colab.research.google.com/github/nikkijha97/Interview-question/blob/main/basic_questions.ipynb\" target=\"_parent\"><img src=\"https://colab.research.google.com/assets/colab-badge.svg\" alt=\"Open In Colab\"/></a>"
      ]
    },
    {
      "cell_type": "code",
      "execution_count": 7,
      "metadata": {
        "colab": {
          "base_uri": "https://localhost:8080/"
        },
        "id": "IB0EBz5ONvoP",
        "outputId": "d43345b1-e82d-4836-8788-f4cdf947aa8a"
      },
      "outputs": [
        {
          "output_type": "stream",
          "name": "stdout",
          "text": [
            "enter num:67\n",
            "enter num:90\n",
            "90 67\n"
          ]
        }
      ],
      "source": [
        "##1.swaping num\n",
        "num1=int(input(\"enter num:\"))\n",
        "num2=int(input(\"enter num:\"))\n",
        "num1,num2=num2,num1\n",
        "print(num1, num2)"
      ]
    },
    {
      "cell_type": "code",
      "source": [
        "##2.no prime or not\n",
        "num=int(input())\n",
        "count=0\n",
        "if num>1:\n",
        "    for i in range(1,num+1):\n",
        "        if num%i==0:\n",
        "            count+=1\n",
        "    if count==2:\n",
        "        print(\"prime\")\n",
        "    else:\n",
        "        print(\"not prime\")\n"
      ],
      "metadata": {
        "colab": {
          "base_uri": "https://localhost:8080/"
        },
        "id": "JpYQrjfJOCc1",
        "outputId": "2d0e8a4b-f23d-4623-c744-8c6c2df18da6"
      },
      "execution_count": 8,
      "outputs": [
        {
          "output_type": "stream",
          "name": "stdout",
          "text": [
            "45\n",
            "not prime\n"
          ]
        }
      ]
    },
    {
      "cell_type": "code",
      "source": [
        "##3.factorial\n",
        "num=int(input(\"enter the num\"))\n",
        "fact=1\n",
        "while(num>1):\n",
        "  fact=fact*num\n",
        "  num-=1\n",
        "print(fact)"
      ],
      "metadata": {
        "colab": {
          "base_uri": "https://localhost:8080/"
        },
        "id": "pW6-2I8FPcZ3",
        "outputId": "bacd0359-f913-4b59-87b7-95299b7cdec6"
      },
      "execution_count": 16,
      "outputs": [
        {
          "output_type": "stream",
          "name": "stdout",
          "text": [
            "enter the num5\n",
            "120\n"
          ]
        }
      ]
    },
    {
      "cell_type": "code",
      "source": [
        "##4.factorial\n",
        "num=int(input(\"enter the num\"))\n",
        "fact=1\n",
        "for i in range(1,num+1):\n",
        "  fact=fact*i\n",
        "print(fact)"
      ],
      "metadata": {
        "colab": {
          "base_uri": "https://localhost:8080/"
        },
        "id": "r5UQ74WTQvoQ",
        "outputId": "18b1e1bf-50e0-41d0-88d8-c37c4cf86fcb"
      },
      "execution_count": 17,
      "outputs": [
        {
          "output_type": "stream",
          "name": "stdout",
          "text": [
            "enter the num5\n",
            "120\n"
          ]
        }
      ]
    },
    {
      "cell_type": "code",
      "source": [
        "##5.fabonacci series\n",
        "n1=0\n",
        "n2=1\n",
        "for i in range(10):\n",
        "  sum=n1+n2\n",
        "  print(sum)\n",
        "  n1,n2=n2,sum"
      ],
      "metadata": {
        "colab": {
          "base_uri": "https://localhost:8080/"
        },
        "id": "ZXEvX8UDX74w",
        "outputId": "6ce7da81-35b6-4449-bef5-dc154f2786c1"
      },
      "execution_count": 23,
      "outputs": [
        {
          "output_type": "stream",
          "name": "stdout",
          "text": [
            "1\n",
            "2\n",
            "3\n",
            "5\n",
            "8\n",
            "13\n",
            "21\n",
            "34\n",
            "55\n",
            "89\n"
          ]
        }
      ]
    },
    {
      "cell_type": "code",
      "source": [
        "##6.print sum of elements in array\n",
        "arr=[1,2,3,4]\n",
        "sum=0\n",
        "for i in arr:\n",
        "  sum+=i\n",
        "print(sum)"
      ],
      "metadata": {
        "colab": {
          "base_uri": "https://localhost:8080/"
        },
        "id": "oRUjh3aUepaF",
        "outputId": "5e0e0fdf-7930-424b-cb48-49389ae49115"
      },
      "execution_count": 27,
      "outputs": [
        {
          "output_type": "stream",
          "name": "stdout",
          "text": [
            "10\n"
          ]
        }
      ]
    },
    {
      "cell_type": "code",
      "source": [
        "##7.Find Maximum & Minimum Elements in an Array\n",
        "arr=[1,3,4,8,5,1,6]\n",
        "max=arr[0]\n",
        "min=arr[0]\n",
        "for i in arr:\n",
        "  if i>max:\n",
        "    max=i\n",
        "  elif i<min:\n",
        "    min=i\n",
        "print(min,max)"
      ],
      "metadata": {
        "colab": {
          "base_uri": "https://localhost:8080/"
        },
        "id": "yDmuTob-g1yO",
        "outputId": "cafc8b84-9341-498a-f092-2a07177eaa6c"
      },
      "execution_count": 30,
      "outputs": [
        {
          "output_type": "stream",
          "name": "stdout",
          "text": [
            "1 8\n"
          ]
        }
      ]
    },
    {
      "cell_type": "code",
      "source": [
        "##8.How To Find Length of a List | Number of Elements in a List\n",
        "arr=[1,3,4,8,5,1,6]\n",
        "print(len(arr))"
      ],
      "metadata": {
        "colab": {
          "base_uri": "https://localhost:8080/"
        },
        "id": "2OhlG5R4qIK2",
        "outputId": "2d0a75ec-face-4cdf-97b3-462fb67d61e4"
      },
      "execution_count": 1,
      "outputs": [
        {
          "output_type": "stream",
          "name": "stdout",
          "text": [
            "7\n"
          ]
        }
      ]
    },
    {
      "cell_type": "code",
      "source": [
        "##9.How To Find Length of a List | Number of Elements in a List\n",
        "arr=[1,3,4,8,5,1,6]\n",
        "count=0\n",
        "for i in arr:\n",
        "  count+=1\n",
        "print(count)"
      ],
      "metadata": {
        "colab": {
          "base_uri": "https://localhost:8080/"
        },
        "id": "VIDBTjIrsmak",
        "outputId": "4044501c-3521-4066-ca3e-8bec4b816d59"
      },
      "execution_count": 2,
      "outputs": [
        {
          "output_type": "stream",
          "name": "stdout",
          "text": [
            "7\n"
          ]
        }
      ]
    },
    {
      "cell_type": "code",
      "source": [
        "##10. How To Swap First & Last Elements of a List\n",
        "arr=[1,3,4,8,5,1,6]\n",
        "temp=arr[0]\n",
        "arr[0]=arr[-1]\n",
        "arr[-1]=temp\n",
        "print(arr)"
      ],
      "metadata": {
        "colab": {
          "base_uri": "https://localhost:8080/"
        },
        "id": "Tt54VW6Pt-M1",
        "outputId": "90ae63f9-752d-4fdb-af03-f1e7b65f68f9"
      },
      "execution_count": 3,
      "outputs": [
        {
          "output_type": "stream",
          "name": "stdout",
          "text": [
            "[6, 3, 4, 8, 5, 1, 1]\n"
          ]
        }
      ]
    },
    {
      "cell_type": "code",
      "source": [
        "##11. How To Swap First & Last Elements of a List\n",
        "arr=[1,3,4,8,5,1,6]\n",
        "arr[0],arr[-1]=arr[-1],arr[0]\n",
        "print(arr)"
      ],
      "metadata": {
        "colab": {
          "base_uri": "https://localhost:8080/"
        },
        "id": "EASW4w2-ukEg",
        "outputId": "4808f6f8-40fb-45ee-ab0b-7e2c43f8c30e"
      },
      "execution_count": 4,
      "outputs": [
        {
          "output_type": "stream",
          "name": "stdout",
          "text": [
            "[6, 3, 4, 8, 5, 1, 1]\n"
          ]
        }
      ]
    }
  ]
}