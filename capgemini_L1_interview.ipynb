{
  "nbformat": 4,
  "nbformat_minor": 0,
  "metadata": {
    "colab": {
      "provenance": [],
      "authorship_tag": "ABX9TyNJrAopL3F/aHKIpPQ/McgM",
      "include_colab_link": true
    },
    "kernelspec": {
      "name": "python3",
      "display_name": "Python 3"
    },
    "language_info": {
      "name": "python"
    }
  },
  "cells": [
    {
      "cell_type": "markdown",
      "metadata": {
        "id": "view-in-github",
        "colab_type": "text"
      },
      "source": [
        "<a href=\"https://colab.research.google.com/github/nikkijha97/Interview-question/blob/main/capgemini_L1_interview.ipynb\" target=\"_parent\"><img src=\"https://colab.research.google.com/assets/colab-badge.svg\" alt=\"Open In Colab\"/></a>"
      ]
    },
    {
      "cell_type": "code",
      "execution_count": 2,
      "metadata": {
        "colab": {
          "base_uri": "https://localhost:8080/"
        },
        "id": "V4FJMKvrSl56",
        "outputId": "a38719dd-f5a9-4803-e1af-e97b5821fac9"
      },
      "outputs": [
        {
          "output_type": "execute_result",
          "data": {
            "text/plain": [
              "[0, 7, 14, 21, 28, 35, 42, 49, 56, 63, 70, 77, 84, 91, 98]"
            ]
          },
          "metadata": {},
          "execution_count": 2
        }
      ],
      "source": [
        "##Give me numbers which are divisible by 7 from 0 to 100 using List comprehension.\n",
        "l1=[num for num in range(101) if num%7==0]\n",
        "l1"
      ]
    },
    {
      "cell_type": "code",
      "source": [
        "##reversing a string\n",
        "wordss=input(\"write a string\")\n",
        "splitted_word=wordss.split(\" \")\n",
        "splitted_word"
      ],
      "metadata": {
        "colab": {
          "base_uri": "https://localhost:8080/"
        },
        "id": "VDjZ7GIzTiQO",
        "outputId": "5e6f71dc-0247-401a-db82-b6cc17785fb5"
      },
      "execution_count": 4,
      "outputs": [
        {
          "name": "stdout",
          "output_type": "stream",
          "text": [
            "write a stringHello wold in my world\n"
          ]
        },
        {
          "output_type": "execute_result",
          "data": {
            "text/plain": [
              "['Hello', 'wold', 'in', 'my', 'world']"
            ]
          },
          "metadata": {},
          "execution_count": 4
        }
      ]
    },
    {
      "cell_type": "code",
      "source": [
        "reversing_list = splitted_word[::-1]\n",
        "reversing_list"
      ],
      "metadata": {
        "colab": {
          "base_uri": "https://localhost:8080/"
        },
        "id": "GZsy3-vbUBk9",
        "outputId": "23a5f2ec-a439-4c9e-a16b-5d468d072da9"
      },
      "execution_count": 9,
      "outputs": [
        {
          "output_type": "execute_result",
          "data": {
            "text/plain": [
              "['world', 'my', 'in', 'wold', 'Hello']"
            ]
          },
          "metadata": {},
          "execution_count": 9
        }
      ]
    },
    {
      "cell_type": "code",
      "source": [
        "out=' '.join(reversing_list)\n",
        "out"
      ],
      "metadata": {
        "colab": {
          "base_uri": "https://localhost:8080/",
          "height": 36
        },
        "id": "QPls9ToZU-bm",
        "outputId": "b7ac7e0f-fb75-46ed-cd93-11fd13fe3d23"
      },
      "execution_count": 11,
      "outputs": [
        {
          "output_type": "execute_result",
          "data": {
            "text/plain": [
              "'world my in wold Hello'"
            ],
            "application/vnd.google.colaboratory.intrinsic+json": {
              "type": "string"
            }
          },
          "metadata": {},
          "execution_count": 11
        }
      ]
    },
    {
      "cell_type": "markdown",
      "source": [
        "SQL interview Questions\n",
        "1. find out the min,max avg of marks of students of each given classes(partion by class) for given table of student column names:-student id, student marks, student class\n",
        "\n",
        "Answer:-\n",
        "\n",
        "\n",
        "select s.*\n",
        "\n",
        "avg(marks) over(partition by student_class) as avg_mark,\n",
        "\n",
        "min(marks) over(partition by student_class) as min_mark,\n",
        "\n",
        "max(marks) over(partition by student class) as max_mark\n",
        "\n",
        "from student;   \n",
        "\n",
        "\n",
        "2. what is difference between RANK(), ROW NUMBER(), DENSE RANK()\n",
        "3. Difference between group by and partition clause"
      ],
      "metadata": {
        "id": "8Ht0ebvVVSy9"
      }
    },
    {
      "cell_type": "code",
      "source": [],
      "metadata": {
        "id": "9WZ6PgTyXX2k"
      },
      "execution_count": null,
      "outputs": []
    }
  ]
}