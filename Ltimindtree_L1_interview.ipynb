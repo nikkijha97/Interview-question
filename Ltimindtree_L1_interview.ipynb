{
  "nbformat": 4,
  "nbformat_minor": 0,
  "metadata": {
    "colab": {
      "provenance": [],
      "authorship_tag": "ABX9TyNtlBuyJnOImECSX1go13/4",
      "include_colab_link": true
    },
    "kernelspec": {
      "name": "python3",
      "display_name": "Python 3"
    },
    "language_info": {
      "name": "python"
    }
  },
  "cells": [
    {
      "cell_type": "markdown",
      "metadata": {
        "id": "view-in-github",
        "colab_type": "text"
      },
      "source": [
        "<a href=\"https://colab.research.google.com/github/nikkijha97/Interview-question/blob/main/Ltimindtree_L1_interview.ipynb\" target=\"_parent\"><img src=\"https://colab.research.google.com/assets/colab-badge.svg\" alt=\"Open In Colab\"/></a>"
      ]
    },
    {
      "cell_type": "code",
      "execution_count": null,
      "metadata": {
        "id": "fCMM0DZUcx2g"
      },
      "outputs": [],
      "source": [
        "name=\"My name is Priyanka\""
      ]
    },
    {
      "cell_type": "code",
      "source": [
        "reve_nam=name[::-1]\n",
        "print(reve_nam)"
      ],
      "metadata": {
        "colab": {
          "base_uri": "https://localhost:8080/"
        },
        "id": "UnnQZDNCdFH3",
        "outputId": "b6cceb5f-7455-47b6-c50e-deb61df86c32"
      },
      "execution_count": null,
      "outputs": [
        {
          "output_type": "stream",
          "name": "stdout",
          "text": [
            "aknayirP si eman yM\n"
          ]
        }
      ]
    },
    {
      "cell_type": "code",
      "source": [
        "space=[2,7,10]"
      ],
      "metadata": {
        "id": "D4yW8M0HdhkH"
      },
      "execution_count": null,
      "outputs": []
    },
    {
      "cell_type": "code",
      "source": [
        "revers=name.replace(' ','')[::-1]\n",
        "rev_l=list(revers)\n",
        "for pos in space:\n",
        "  rev_l.insert(pos,' ')\n",
        "finnal_rev=''.join(rev_l)\n",
        "print(finnal_rev)"
      ],
      "metadata": {
        "colab": {
          "base_uri": "https://localhost:8080/"
        },
        "id": "FYLaJdBEdlW5",
        "outputId": "eae6e541-143a-47a8-9f8e-6e0ff03472c0"
      },
      "execution_count": null,
      "outputs": [
        {
          "output_type": "stream",
          "name": "stdout",
          "text": [
            "ak nayi rP siemanyM\n"
          ]
        }
      ]
    },
    {
      "cell_type": "code",
      "source": [
        "input_list = [4, 2, 2, 8, 3, 3, 3, 4, 4, 4]"
      ],
      "metadata": {
        "id": "ebyFK1GEfOKT"
      },
      "execution_count": null,
      "outputs": []
    },
    {
      "cell_type": "code",
      "source": [
        "##Write a Python function that takes a string as input and returns a new string where each character\n",
        "##in the original string is replaced by the next character in the alphabet. If the character is ‘z’ or ‘Z’,\n",
        "##it should wrap around to ‘a’ or ‘A’, respectively.\n",
        "##Non-alphabetic characters should remain unchanged."
      ],
      "metadata": {
        "id": "b92rpfAWiCr1"
      },
      "execution_count": null,
      "outputs": []
    },
    {
      "cell_type": "code",
      "source": [
        "def str(s):\n",
        "  res=[]\n",
        "  for char in s:\n",
        "    if char.isalpha():\n",
        "      if char == 'z':\n",
        "        res.append('a')\n",
        "      elif char == 'Z':\n",
        "        res.append('A')\n",
        "      else:\n",
        "        res.append(chr(ord(char)+1))\n",
        "    else:\n",
        "      res.append(char)\n",
        "  return ''.join(res)\n",
        "input_string = \"Hello, World! zZ\"\n",
        "out=str(input_string)\n",
        "print(out)"
      ],
      "metadata": {
        "colab": {
          "base_uri": "https://localhost:8080/"
        },
        "id": "O4qvFm6aiOr_",
        "outputId": "6ce9fbf0-0c76-4c9c-bdd1-a032a66a4062"
      },
      "execution_count": null,
      "outputs": [
        {
          "output_type": "stream",
          "name": "stdout",
          "text": [
            "Ifmmp, Xpsme! aA\n"
          ]
        }
      ]
    },
    {
      "cell_type": "code",
      "source": [
        "##list of numbers and give output as sum of even nos"
      ],
      "metadata": {
        "colab": {
          "base_uri": "https://localhost:8080/"
        },
        "id": "X0O-TSuSjdSc",
        "outputId": "6f2182ce-51d0-41c5-8120-59598314d1e3"
      },
      "execution_count": null,
      "outputs": [
        {
          "output_type": "stream",
          "name": "stdout",
          "text": [
            "I\n"
          ]
        }
      ]
    },
    {
      "cell_type": "code",
      "source": [
        "l=[1,2,3,4,5,6,7,6]\n",
        "def sum_even(num):\n",
        "  return sum(n for n in num if n%2 == 0)\n",
        "even=sum_even(l)\n",
        "print(even)"
      ],
      "metadata": {
        "colab": {
          "base_uri": "https://localhost:8080/"
        },
        "id": "1D4Ye33tkZaK",
        "outputId": "7dde2fd6-76d7-47f2-f9d5-d8ab293e5d66"
      },
      "execution_count": null,
      "outputs": [
        {
          "output_type": "stream",
          "name": "stdout",
          "text": [
            "18\n"
          ]
        }
      ]
    }
  ]
}